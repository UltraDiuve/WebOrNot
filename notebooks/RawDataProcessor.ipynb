{
 "cells": [
  {
   "cell_type": "markdown",
   "metadata": {},
   "source": [
    "# 1. Objet\n",
    "\n",
    "Ce notebook a pour objet de traiter les fichiers bruts mis en entrée dans le répertoire `data`. Il s'agit des fichiers : \n",
    "- d'historiques de vente\n",
    "- de référentiel client\n",
    "\n",
    "Etant donné la simplicité des traitements faits sur le référentiel client, ils sont fait directement dans ce fichier."
   ]
  },
  {
   "cell_type": "markdown",
   "metadata": {},
   "source": [
    "# 2. Setup et imports"
   ]
  },
  {
   "cell_type": "code",
   "execution_count": 1,
   "metadata": {},
   "outputs": [
    {
     "data": {
      "text/html": [
       "<style>.container { width:90%; }</style>"
      ],
      "text/plain": [
       "<IPython.core.display.HTML object>"
      ]
     },
     "metadata": {},
     "output_type": "display_data"
    }
   ],
   "source": [
    "from pathlib import Path\n",
    "import sys\n",
    "import datetime\n",
    "import pandas as pd\n",
    "idx = pd.IndexSlice\n",
    "project_root = str(Path(sys.path[0]).parents[0].absolute())\n",
    "project_root\n",
    "if project_root not in sys.path:\n",
    "    sys.path.append(project_root)\n",
    "data_path = Path('..') / 'data'\n",
    "persist_path = Path('..') / 'persist'\n",
    "from IPython.display import display, HTML\n",
    "display(HTML(\"<style>.container { width:90%; }</style>\"))"
   ]
  },
  {
   "cell_type": "markdown",
   "metadata": {},
   "source": [
    "Définition du client Dask"
   ]
  },
  {
   "cell_type": "code",
   "execution_count": 2,
   "metadata": {},
   "outputs": [
    {
     "name": "stderr",
     "output_type": "stream",
     "text": [
      "/var/lib/anaconda3/envs/py38/lib/python3.8/site-packages/distributed/node.py:151: UserWarning: Port 8787 is already in use.\n",
      "Perhaps you already have a cluster running?\n",
      "Hosting the HTTP server on port 37215 instead\n",
      "  warnings.warn(\n"
     ]
    },
    {
     "data": {
      "text/html": [
       "<table style=\"border: 2px solid white;\">\n",
       "<tr>\n",
       "<td style=\"vertical-align: top; border: 0px solid white\">\n",
       "<h3 style=\"text-align: left;\">Client</h3>\n",
       "<ul style=\"text-align: left; list-style: none; margin: 0; padding: 0;\">\n",
       "  <li><b>Scheduler: </b>tcp://127.0.0.1:37007</li>\n",
       "  <li><b>Dashboard: </b><a href='http://127.0.0.1:37215/status' target='_blank'>http://127.0.0.1:37215/status</a></li>\n",
       "</ul>\n",
       "</td>\n",
       "<td style=\"vertical-align: top; border: 0px solid white\">\n",
       "<h3 style=\"text-align: left;\">Cluster</h3>\n",
       "<ul style=\"text-align: left; list-style:none; margin: 0; padding: 0;\">\n",
       "  <li><b>Workers: </b>4</li>\n",
       "  <li><b>Cores: </b>8</li>\n",
       "  <li><b>Memory: </b>33.56 GB</li>\n",
       "</ul>\n",
       "</td>\n",
       "</tr>\n",
       "</table>"
      ],
      "text/plain": [
       "<Client: 'tcp://127.0.0.1:37007' processes=4 threads=8, memory=33.56 GB>"
      ]
     },
     "execution_count": 2,
     "metadata": {},
     "output_type": "execute_result"
    }
   ],
   "source": [
    "from dask.distributed import Client\n",
    "import dask.dataframe as dd\n",
    "client = Client() # n_workers=1, threads_per_worker=4, processes=False, memory_limit='2GB'\n",
    "client"
   ]
  },
  {
   "cell_type": "markdown",
   "metadata": {},
   "source": [
    "2. Définition de la liste des succursales"
   ]
  },
  {
   "cell_type": "code",
   "execution_count": 3,
   "metadata": {},
   "outputs": [],
   "source": [
    "orgacom_list = [\n",
    "    '1ALO',\n",
    "    '1BFC',\n",
    "    '1CAP',\n",
    "    '1CTR',\n",
    "    '1EXP',\n",
    "    '1LRO',\n",
    "    '1LXF',\n",
    "    '1NCH',\n",
    "    '1OUE',\n",
    "    '1PAC',\n",
    "    '1PNO',\n",
    "    '1PSU',\n",
    "    '1RAA',\n",
    "    '1SOU',\n",
    "    '2BRE',\n",
    "    '2CAE',\n",
    "    '2CTR',\n",
    "    '2EST',\n",
    "    '2IDF',\n",
    "    '2IFC',\n",
    "    '2MPY',\n",
    "    '2NOR',\n",
    "    '2RAA',\n",
    "    '2SES',\n",
    "    '2SOU',\n",
    "]"
   ]
  },
  {
   "cell_type": "markdown",
   "metadata": {},
   "source": [
    "# 3. Données pour contrôle\n",
    "\n",
    "On récupère des données agrégées issues directement de la LISTCUBE dans PBI, afin de contrôler à la volée que l'extraction et le chargement des données à une maille fine se sont bien passés."
   ]
  },
  {
   "cell_type": "markdown",
   "metadata": {},
   "source": [
    "1. Définition des champs qui serviront à faire le contrôle"
   ]
  },
  {
   "cell_type": "code",
   "execution_count": 4,
   "metadata": {},
   "outputs": [],
   "source": [
    "fields_to_compare = ['weight', 'brutrevenue', 'margin']"
   ]
  },
  {
   "cell_type": "markdown",
   "metadata": {},
   "source": [
    "2. Définition des mois à contrôler"
   ]
  },
  {
   "cell_type": "code",
   "execution_count": 5,
   "metadata": {},
   "outputs": [],
   "source": [
    "months = [\n",
    "    '201707',\n",
    "    '201708',\n",
    "    '201709',\n",
    "    '201710',\n",
    "    '201711',\n",
    "    '201712',\n",
    "    '201801',\n",
    "    '201802',\n",
    "    '201803',\n",
    "    '201804',\n",
    "    '201805',\n",
    "    '201806',\n",
    "    '201807',\n",
    "    '201808',\n",
    "    '201809',\n",
    "    '201810',\n",
    "    '201811',\n",
    "    '201812',\n",
    "    '201901',\n",
    "    '201902',\n",
    "    '201903',\n",
    "    '201904',\n",
    "    '201905',\n",
    "    '201906',\n",
    "    '201907',\n",
    "    '201908',\n",
    "    '201909',\n",
    "    '201910',\n",
    "    '201911',\n",
    "    '201912',\n",
    "    '202001',\n",
    "    '202002',\n",
    "    '202003',\n",
    "    '202004',\n",
    "    '202005',\n",
    "    '202006',\n",
    "    '202007',\n",
    "    '202008',\n",
    "    '202009',\n",
    "    '202010',\n",
    "    '202011',\n",
    "    '202012',\n",
    "    '202101',\n",
    "]"
   ]
  },
  {
   "cell_type": "markdown",
   "metadata": {},
   "source": [
    "3. Chargement des données"
   ]
  },
  {
   "cell_type": "code",
   "execution_count": 6,
   "metadata": {},
   "outputs": [
    {
     "data": {
      "text/html": [
       "<div>\n",
       "<style scoped>\n",
       "    .dataframe tbody tr th:only-of-type {\n",
       "        vertical-align: middle;\n",
       "    }\n",
       "\n",
       "    .dataframe tbody tr th {\n",
       "        vertical-align: top;\n",
       "    }\n",
       "\n",
       "    .dataframe thead th {\n",
       "        text-align: right;\n",
       "    }\n",
       "</style>\n",
       "<table border=\"1\" class=\"dataframe\">\n",
       "  <thead>\n",
       "    <tr style=\"text-align: right;\">\n",
       "      <th></th>\n",
       "      <th></th>\n",
       "      <th>year</th>\n",
       "      <th>currency</th>\n",
       "      <th>weight_unit</th>\n",
       "      <th>weight_unit2</th>\n",
       "      <th>weight</th>\n",
       "      <th>weight2</th>\n",
       "      <th>brutrevenue</th>\n",
       "      <th>netrevenue</th>\n",
       "      <th>net2revenue</th>\n",
       "      <th>margin</th>\n",
       "    </tr>\n",
       "    <tr>\n",
       "      <th>orgacom</th>\n",
       "      <th>month</th>\n",
       "      <th></th>\n",
       "      <th></th>\n",
       "      <th></th>\n",
       "      <th></th>\n",
       "      <th></th>\n",
       "      <th></th>\n",
       "      <th></th>\n",
       "      <th></th>\n",
       "      <th></th>\n",
       "      <th></th>\n",
       "    </tr>\n",
       "  </thead>\n",
       "  <tbody>\n",
       "    <tr>\n",
       "      <th rowspan=\"5\" valign=\"top\">1ALO</th>\n",
       "      <th>201707</th>\n",
       "      <td>2017</td>\n",
       "      <td>EUR</td>\n",
       "      <td>KG</td>\n",
       "      <td>NaN</td>\n",
       "      <td>3144714.984</td>\n",
       "      <td>0.0</td>\n",
       "      <td>10426960.20</td>\n",
       "      <td>10024879.18</td>\n",
       "      <td>9742979.65</td>\n",
       "      <td>1666902.18</td>\n",
       "    </tr>\n",
       "    <tr>\n",
       "      <th>201708</th>\n",
       "      <td>2017</td>\n",
       "      <td>EUR</td>\n",
       "      <td>KG</td>\n",
       "      <td>NaN</td>\n",
       "      <td>3329429.530</td>\n",
       "      <td>0.0</td>\n",
       "      <td>10984996.41</td>\n",
       "      <td>10579208.70</td>\n",
       "      <td>10294519.29</td>\n",
       "      <td>1817023.14</td>\n",
       "    </tr>\n",
       "    <tr>\n",
       "      <th>201709</th>\n",
       "      <td>2017</td>\n",
       "      <td>EUR</td>\n",
       "      <td>KG</td>\n",
       "      <td>NaN</td>\n",
       "      <td>4543058.400</td>\n",
       "      <td>0.0</td>\n",
       "      <td>14679332.61</td>\n",
       "      <td>14122353.46</td>\n",
       "      <td>13743135.09</td>\n",
       "      <td>2374842.11</td>\n",
       "    </tr>\n",
       "    <tr>\n",
       "      <th>201710</th>\n",
       "      <td>2017</td>\n",
       "      <td>EUR</td>\n",
       "      <td>KG</td>\n",
       "      <td>NaN</td>\n",
       "      <td>4406942.653</td>\n",
       "      <td>0.0</td>\n",
       "      <td>14542930.00</td>\n",
       "      <td>13948005.52</td>\n",
       "      <td>13567019.14</td>\n",
       "      <td>2298395.93</td>\n",
       "    </tr>\n",
       "    <tr>\n",
       "      <th>201711</th>\n",
       "      <td>2017</td>\n",
       "      <td>EUR</td>\n",
       "      <td>KG</td>\n",
       "      <td>NaN</td>\n",
       "      <td>4670216.793</td>\n",
       "      <td>0.0</td>\n",
       "      <td>15618497.28</td>\n",
       "      <td>15023089.41</td>\n",
       "      <td>14630158.70</td>\n",
       "      <td>2468127.12</td>\n",
       "    </tr>\n",
       "    <tr>\n",
       "      <th>...</th>\n",
       "      <th>...</th>\n",
       "      <td>...</td>\n",
       "      <td>...</td>\n",
       "      <td>...</td>\n",
       "      <td>...</td>\n",
       "      <td>...</td>\n",
       "      <td>...</td>\n",
       "      <td>...</td>\n",
       "      <td>...</td>\n",
       "      <td>...</td>\n",
       "      <td>...</td>\n",
       "    </tr>\n",
       "    <tr>\n",
       "      <th rowspan=\"5\" valign=\"top\">2SOU</th>\n",
       "      <th>202009</th>\n",
       "      <td>2020</td>\n",
       "      <td>EUR</td>\n",
       "      <td>KG</td>\n",
       "      <td>NaN</td>\n",
       "      <td>2019045.566</td>\n",
       "      <td>0.0</td>\n",
       "      <td>3888583.36</td>\n",
       "      <td>3694176.69</td>\n",
       "      <td>3558897.59</td>\n",
       "      <td>817271.63</td>\n",
       "    </tr>\n",
       "    <tr>\n",
       "      <th>202010</th>\n",
       "      <td>2020</td>\n",
       "      <td>EUR</td>\n",
       "      <td>KG</td>\n",
       "      <td>NaN</td>\n",
       "      <td>1729008.134</td>\n",
       "      <td>0.0</td>\n",
       "      <td>3352393.38</td>\n",
       "      <td>3187072.99</td>\n",
       "      <td>3065034.48</td>\n",
       "      <td>697716.19</td>\n",
       "    </tr>\n",
       "    <tr>\n",
       "      <th>202011</th>\n",
       "      <td>2020</td>\n",
       "      <td>EUR</td>\n",
       "      <td>KG</td>\n",
       "      <td>NaN</td>\n",
       "      <td>1552341.359</td>\n",
       "      <td>0.0</td>\n",
       "      <td>2850131.34</td>\n",
       "      <td>2705915.02</td>\n",
       "      <td>2590223.99</td>\n",
       "      <td>523473.96</td>\n",
       "    </tr>\n",
       "    <tr>\n",
       "      <th>202012</th>\n",
       "      <td>2020</td>\n",
       "      <td>EUR</td>\n",
       "      <td>KG</td>\n",
       "      <td>NaN</td>\n",
       "      <td>1508480.846</td>\n",
       "      <td>0.0</td>\n",
       "      <td>2728676.03</td>\n",
       "      <td>2594373.68</td>\n",
       "      <td>2484134.90</td>\n",
       "      <td>487176.95</td>\n",
       "    </tr>\n",
       "    <tr>\n",
       "      <th>202101</th>\n",
       "      <td>2021</td>\n",
       "      <td>EUR</td>\n",
       "      <td>KG</td>\n",
       "      <td>NaN</td>\n",
       "      <td>1559127.769</td>\n",
       "      <td>0.0</td>\n",
       "      <td>2858547.33</td>\n",
       "      <td>2718724.05</td>\n",
       "      <td>2609435.75</td>\n",
       "      <td>549102.26</td>\n",
       "    </tr>\n",
       "  </tbody>\n",
       "</table>\n",
       "<p>1052 rows × 10 columns</p>\n",
       "</div>"
      ],
      "text/plain": [
       "                year currency weight_unit  weight_unit2       weight  weight2  \\\n",
       "orgacom month                                                                   \n",
       "1ALO    201707  2017      EUR          KG           NaN  3144714.984      0.0   \n",
       "        201708  2017      EUR          KG           NaN  3329429.530      0.0   \n",
       "        201709  2017      EUR          KG           NaN  4543058.400      0.0   \n",
       "        201710  2017      EUR          KG           NaN  4406942.653      0.0   \n",
       "        201711  2017      EUR          KG           NaN  4670216.793      0.0   \n",
       "...              ...      ...         ...           ...          ...      ...   \n",
       "2SOU    202009  2020      EUR          KG           NaN  2019045.566      0.0   \n",
       "        202010  2020      EUR          KG           NaN  1729008.134      0.0   \n",
       "        202011  2020      EUR          KG           NaN  1552341.359      0.0   \n",
       "        202012  2020      EUR          KG           NaN  1508480.846      0.0   \n",
       "        202101  2021      EUR          KG           NaN  1559127.769      0.0   \n",
       "\n",
       "                brutrevenue   netrevenue  net2revenue      margin  \n",
       "orgacom month                                                      \n",
       "1ALO    201707  10426960.20  10024879.18   9742979.65  1666902.18  \n",
       "        201708  10984996.41  10579208.70  10294519.29  1817023.14  \n",
       "        201709  14679332.61  14122353.46  13743135.09  2374842.11  \n",
       "        201710  14542930.00  13948005.52  13567019.14  2298395.93  \n",
       "        201711  15618497.28  15023089.41  14630158.70  2468127.12  \n",
       "...                     ...          ...          ...         ...  \n",
       "2SOU    202009   3888583.36   3694176.69   3558897.59   817271.63  \n",
       "        202010   3352393.38   3187072.99   3065034.48   697716.19  \n",
       "        202011   2850131.34   2705915.02   2590223.99   523473.96  \n",
       "        202012   2728676.03   2594373.68   2484134.90   487176.95  \n",
       "        202101   2858547.33   2718724.05   2609435.75   549102.26  \n",
       "\n",
       "[1052 rows x 10 columns]"
      ]
     },
     "execution_count": 6,
     "metadata": {},
     "output_type": "execute_result"
    }
   ],
   "source": [
    "ctrle = pd.read_csv(\n",
    "    data_path / 'detrompeur_data.csv',\n",
    "    encoding='latin1',\n",
    "    sep=';',\n",
    "    names=['orgacom', 'month', 'year', 'currency', 'weight_unit', 'weight_unit2', 'weight', 'weight2', 'brutrevenue', 'netrevenue', 'net2revenue', 'margin'],\n",
    "    skiprows=[0],\n",
    "    dtype={\n",
    "        'orgacom': pd.CategoricalDtype(orgacom_list),\n",
    "        'month': pd.CategoricalDtype(months),\n",
    "        'year': 'object',\n",
    "        'weight': 'float',\n",
    "    },\n",
    "    decimal=',',\n",
    "    thousands=' ',\n",
    ").loc[lambda x: x.month.isin(months)].set_index(['orgacom', 'month']).sort_index()\n",
    "ctrle"
   ]
  },
  {
   "cell_type": "markdown",
   "metadata": {},
   "source": [
    "# 4. Historiques de vente\n",
    "\n",
    "\n",
    "Constitution d'un DataFrame par Succursale\n",
    "\n",
    "Dans cette partie, on va constituer un DataFrame par succursale qu'on va persister sur le disque."
   ]
  },
  {
   "cell_type": "markdown",
   "metadata": {},
   "source": [
    "1. Définition du format du csv"
   ]
  },
  {
   "cell_type": "code",
   "execution_count": 7,
   "metadata": {},
   "outputs": [],
   "source": [
    "init_fields = {'orgacom': pd.CategoricalDtype(orgacom_list),\n",
    "          'month': pd.CategoricalDtype(months),\n",
    "          'week': 'category',\n",
    "          'date': 'object',\n",
    "          'pricetype_init': 'object',\n",
    "          'pricetype_applied': 'object',\n",
    "          'mercu_init': 'object', \n",
    "          'mercu_applied': 'object',\n",
    "          'client': 'object',\n",
    "          'doctype': 'object',\n",
    "          'origin': pd.CategoricalDtype(['TV', 'VR', 'EDI', 'WEB', '#', 'SCHR', 'TELE',\n",
    "                                         'MUEN', 'FRN', 'DFUE'], ordered=True),\n",
    "          'salesgroup': 'object',\n",
    "          'material': 'object',\n",
    "          'brutrevenue': 'float',\n",
    "          'brutrevcur': 'object', \n",
    "          'netrevenue': 'float', \n",
    "          'netrevcur': 'object',\n",
    "          'weight': 'float',\n",
    "          'weightunit': 'object',\n",
    "          'margin': 'float', \n",
    "          'margincur': 'object', \n",
    "          'marginperkg': 'float',\n",
    "         }"
   ]
  },
  {
   "cell_type": "markdown",
   "metadata": {},
   "source": [
    "2. Paramètres pour l'interprétation du csv"
   ]
  },
  {
   "cell_type": "code",
   "execution_count": 8,
   "metadata": {
    "scrolled": false
   },
   "outputs": [],
   "source": [
    "read_csv_kwargs = dict(\n",
    "    sep=\";\",\n",
    "    header=None,\n",
    "    names=list(init_fields.keys()),      \n",
    "    dtype=init_fields, \n",
    "    parse_dates=['date'],    \n",
    ")"
   ]
  },
  {
   "cell_type": "markdown",
   "metadata": {},
   "source": [
    "3. Définition des fichiers bruts\n",
    "\n",
    "Ces fichiers doivent être dans le répertoire `data`."
   ]
  },
  {
   "cell_type": "code",
   "execution_count": 9,
   "metadata": {},
   "outputs": [],
   "source": [
    "raw_data_filenames = [\n",
    "    'export_total.csv',  # premier export, qui a foiré sur l'année 2020 en gros\n",
    "    'export_complementaire.csv',  # première moitié de 2020 - interrompu ensuite\n",
    "    'export_complementaire_3.csv',  # export de la seconde moitié de 2020\n",
    "    'export_total_16_17_dec_2019.csv',  # 16 et 17 décembre 2019, qui manquaient\n",
    "    'export_total_29-01_09_2020.csv',\n",
    "    'export_total_22-24_09_2020.csv',\n",
    "    'export_total_22_08_2020.csv',\n",
    "    'export_total_14-17_09_2020.csv',\n",
    "    'export_total_10-13_09_2020.csv',\n",
    "    'export_total_06-09_09_2020.csv',\n",
    "    'export_total_02-05_09_2020.csv',    \n",
    "#     'EXTRACT_LIGNES_VENTES_V3.csv',  # NE PAS PRENDRE ! Juste pour vérifier que mon outil de contrôle identifiait bien les écarts liés à l'absence de soum (spoiler alert: c'est bon!)\n",
    "]\n",
    "raw_data_paths = [data_path / filename for filename in raw_data_filenames]"
   ]
  },
  {
   "cell_type": "markdown",
   "metadata": {},
   "source": [
    "4. Lecture des csv, et enregistrement sur le disque"
   ]
  },
  {
   "cell_type": "code",
   "execution_count": null,
   "metadata": {},
   "outputs": [],
   "source": [
    "ddf = dd.read_csv(\n",
    "    raw_data_paths,\n",
    "    **read_csv_kwargs,\n",
    ")\n",
    "ddf.to_parquet(persist_path / 'raw_data.parquet')"
   ]
  },
  {
   "cell_type": "markdown",
   "metadata": {},
   "source": [
    "5. Contrôle de la conformité des données"
   ]
  },
  {
   "cell_type": "code",
   "execution_count": null,
   "metadata": {},
   "outputs": [],
   "source": [
    "grouped = ddf.loc[:, ['orgacom', 'month', *fields_to_compare]].groupby(['orgacom', 'month']).sum().compute()\n",
    "grouped"
   ]
  },
  {
   "cell_type": "code",
   "execution_count": null,
   "metadata": {},
   "outputs": [],
   "source": [
    "delta = (\n",
    "    grouped\n",
    "    .merge(\n",
    "        ctrle.loc[:, fields_to_compare],\n",
    "        suffixes=(None, '_ctrle'),\n",
    "        left_index=True,\n",
    "        right_index=True,\n",
    "        indicator=False,\n",
    "        how='outer'\n",
    "    )\n",
    "    .fillna(0)\n",
    "    .assign(\n",
    "        **{indicator + '_delta': lambda x, i=indicator: (x[i] - x[i + '_ctrle']) / (x[i + '_ctrle'])\n",
    "           for indicator in fields_to_compare\n",
    "          }\n",
    "    )\n",
    "    .drop([*[indicator for indicator in fields_to_compare], *[indicator + '_ctrle' for indicator in fields_to_compare]], axis=1)\n",
    "    .unstack('orgacom')\n",
    "    .swaplevel(axis=1)\n",
    "    .sort_index(axis=1)\n",
    ")\n",
    "with pd.option_context('display.max_columns', None, 'display.float_format', lambda x: f'{x:.2%}'):\n",
    "    display(delta.style.bar(align='mid', axis=None))"
   ]
  },
  {
   "cell_type": "code",
   "execution_count": null,
   "metadata": {},
   "outputs": [],
   "source": [
    "delta.to_pickle(persist_path / 'current_delta.pkl')"
   ]
  },
  {
   "cell_type": "markdown",
   "metadata": {},
   "source": [
    "6. Itération - ANCIENNE VERSION, PLUS NECESSAIRE."
   ]
  },
  {
   "cell_type": "code",
   "execution_count": null,
   "metadata": {
    "scrolled": true
   },
   "outputs": [],
   "source": [
    "# delta_list = []\n",
    "\n",
    "# for cpt0, orgacom in enumerate(orgacom_list):\n",
    "#     print(f'---------------------------------------------------')\n",
    "#     print(f'--------       Succursale {orgacom} - {cpt0 + 1}/{len(orgacom_list)}       --------')\n",
    "#     print(f'---------------------------------------------------\\n')\n",
    "#     df_list = []\n",
    "#     for cpt, raw_data_filename in enumerate(raw_data_filenames):\n",
    "#         print(f'Traitement du fichier {cpt + 1}/{len(raw_data_filenames)} - {raw_data_filename}')\n",
    "#         print(f'          --------------------           ')\n",
    "#         iterator = pd.read_csv(data_path / raw_data_filename, **iterator_kwargs)\n",
    "#         print(f\"{datetime.datetime.now()} - Début de l'itération\")\n",
    "#         for cpt2, content in enumerate(iterator):\n",
    "#             print(f'{datetime.datetime.now()} - Run {cpt2 + 1}')\n",
    "#             df_list.append(content.loc[lambda x: x.orgacom == orgacom])\n",
    "#     print(f'{datetime.datetime.now()} - Fin du traitement des fichiers pour la succursale {orgacom} !')\n",
    "#     print(f'          --------------------           ')    \n",
    "#     print(f'{datetime.datetime.now()} - Concaténation pour la succursale {orgacom}')\n",
    "#     oc_df = pd.concat(df_list, axis=0)\n",
    "#     oc_df = oc_df.reset_index(drop=True)\n",
    "\n",
    "#     print(f'{datetime.datetime.now()} - Enregistrement sur disque pour la succursale {orgacom}\\n')\n",
    "#     filename = f'data_{orgacom}.pkl'    \n",
    "#     oc_df.to_pickle(persist_path / 'rawbyoc' / filename)\n",
    "    \n",
    "#     print(f'{datetime.datetime.now()} - Contrôle de la conformité des données pour la succursale {orgacom}')\n",
    "#     reference = ctrle.loc[idx[orgacom, months], fields_to_compare]\n",
    "#     to_check = oc_df.groupby(['orgacom', 'month'], observed=True)[fields_to_compare].sum()\n",
    "#     aligned = reference.align(to_check, fill_value=0.)\n",
    "#     delta_list.append((aligned[0] - aligned[1]) / aligned[0])\n",
    "\n",
    "#     del(oc_df)\n",
    "\n",
    "# print('Traitement terminé !')\n",
    "    \n",
    "# delta = pd.concat(delta_list).unstack('orgacom').swaplevel(axis=1).sort_index(axis=1)\n",
    "# del(delta_list)\n",
    "# with pd.option_context('display.float_format', lambda x: f'{x:.2%}', 'display.max_columns', None):\n",
    "#     display(delta)\n",
    "# delta.to_pickle(persist_path / 'current_delta.pkl')\n"
   ]
  },
  {
   "cell_type": "markdown",
   "metadata": {},
   "source": [
    "# 4. Référentiel client\n",
    "\n",
    "1. Définition des entêtes des fichiers à intégrer"
   ]
  },
  {
   "cell_type": "code",
   "execution_count": null,
   "metadata": {},
   "outputs": [],
   "source": [
    "field_names = [\n",
    "    'client',\n",
    "    'V',\n",
    "    'groupecompte',\n",
    "    'nom',\n",
    "    'postalcode',\n",
    "    'seg1',\n",
    "    'seg2',\n",
    "    'seg3',\n",
    "    'seg4',\n",
    "    'cat',\n",
    "    'sscat',\n",
    "    'saiso',\n",
    "    'surcat',\n",
    "    'ecom',\n",
    "    'sectact',\n",
    "    'canal',\n",
    "    'orgacom',\n",
    "    'grpclt1',\n",
    "    'grpclt2',\n",
    "    'grpclt3',\n",
    "    'grpclt4',\n",
    "    'grpclt5',\n",
    "    'agence',\n",
    "    'condexp',\n",
    "    'pricetype',\n",
    "    'relationtype',\n",
    "    'pilcom',\n",
    "    'hier4',\n",
    "    'hier3',\n",
    "    'hier2',\n",
    "    'hier1',\n",
    "    'adrnr',\n",
    "    'city',\n",
    "    'SIRET',\n",
    "    'hier4_l',\n",
    "    'SIREN',\n",
    "    'street',\n",
    "    'V2',\n",
    "    'hier3_l',\n",
    "    'hier2_l',\n",
    "    'hier1_l',\n",
    "    'mandant_deletion_indicator',\n",
    "    'sales_org_deletion_indicator',    \n",
    "]"
   ]
  },
  {
   "cell_type": "markdown",
   "metadata": {},
   "source": [
    "2. Définition des formats initiaux (i.e. l'interprétation \"brute\" du fichier)"
   ]
  },
  {
   "cell_type": "code",
   "execution_count": null,
   "metadata": {},
   "outputs": [],
   "source": [
    "initial_dtypes = {\n",
    "    'client': 'object',\n",
    "    'V': 'object',\n",
    "    'groupecompte': 'object',\n",
    "    'nom': 'object',\n",
    "    'postalcode': 'object',\n",
    "    'seg1': 'object',\n",
    "    'seg2': 'object',\n",
    "    'seg3': 'object',\n",
    "    'seg4': 'object',\n",
    "    'cat': 'object',\n",
    "    'sscat': 'object',\n",
    "    #'saiso': 'bool', # défini dans le converter du read_csv\n",
    "    'surcat': 'object',\n",
    "    #'ecom': 'bool', # défini dans le converter du read_csv\n",
    "    'sectact': 'object',\n",
    "    'canal': 'object', \n",
    "    'orgacom': 'object', \n",
    "    'grpclt1': 'object',\n",
    "    'grpclt2': 'object',\n",
    "    'grpclt3': 'object',\n",
    "    'grpclt4': 'object',\n",
    "    'grpclt5': 'object',\n",
    "    'agence': 'object', \n",
    "    'condexp': 'object', \n",
    "    'pricetype': 'object', \n",
    "    'relationtype': 'object',\n",
    "    'pilcom': 'object',\n",
    "    'hier4': 'object',\n",
    "    'hier3': 'object',\n",
    "    'hier2': 'object',\n",
    "    'hier1': 'object',\n",
    "    'adrnr': 'object',\n",
    "    'city': 'object',\n",
    "    'SIRET': 'object',\n",
    "    'hier4_l': 'object',\n",
    "    'SIREN': 'object',\n",
    "    'street': 'object',\n",
    "    'V2': 'object',\n",
    "    'hier3_l': 'object',\n",
    "    'hier2_l': 'object',\n",
    "    'hier1_l': 'object',\n",
    "#     'mandant_deletion_indicator': 'bool',  # défini dans le converter du read_csv\n",
    "#     'sales_org_deletion_indicator': 'bool',  # défini dans le converter du read_csv \n",
    "}"
   ]
  },
  {
   "cell_type": "markdown",
   "metadata": {},
   "source": [
    "3. Définition des formats \"cibles\" du DataFrame. On fait en 2 temps pour la gestion des données `Categorical` (on concatène d'abord les dataframes pour que la converions en `Categorical` \"voie\" l'ensemble des valeurs)."
   ]
  },
  {
   "cell_type": "code",
   "execution_count": null,
   "metadata": {},
   "outputs": [],
   "source": [
    "target_dtypes = {\n",
    "    'client': 'object',\n",
    "    'V': 'category',\n",
    "    'groupecompte': 'category',\n",
    "    'nom': 'object',\n",
    "    'postalcode': 'category',\n",
    "    'seg1': 'category',\n",
    "    'seg2': 'category',\n",
    "    'seg3': 'category',\n",
    "    'seg4': 'category',\n",
    "    'cat': 'category',\n",
    "    'sscat': 'category',\n",
    "    #              'saiso': 'bool',\n",
    "    'surcat': 'category',\n",
    "    #              'ecom': 'bool', \n",
    "    'sectact': 'category',\n",
    "    'canal': 'category', \n",
    "    'orgacom': 'category', \n",
    "    'grpclt1': 'category',\n",
    "    'grpclt2': 'category',\n",
    "    'grpclt3': 'category',\n",
    "    'grpclt4': 'category',\n",
    "    'grpclt5': 'category',\n",
    "    'agence': 'category', \n",
    "    'condexp': 'category', \n",
    "    'pricetype': 'category', \n",
    "    'relationtype': 'category',\n",
    "    'pilcom': 'category',\n",
    "    'hier4': 'object',\n",
    "    'hier3': 'object',\n",
    "    'hier2': 'object',\n",
    "    'hier1': 'object',\n",
    "    'adrnr': 'object',\n",
    "    'city': 'object',\n",
    "    'SIRET': 'object',\n",
    "    'hier4_l': 'object',\n",
    "    'SIREN': 'object',\n",
    "    'street': 'object',\n",
    "    'V2': 'object',\n",
    "    'hier3_l': 'object',\n",
    "    'hier2_l': 'object',\n",
    "    'hier1_l': 'object',\n",
    "#     'mandant_deletion_indicator': 'bool',  # défini dans le converter du read_csv\n",
    "#     'sales_org_deletion_indicator': 'bool',  # défini dans le converter du read_csv     \n",
    "            }"
   ]
  },
  {
   "cell_type": "markdown",
   "metadata": {},
   "source": [
    "4. Définition des arguments du read_csv"
   ]
  },
  {
   "cell_type": "code",
   "execution_count": null,
   "metadata": {},
   "outputs": [],
   "source": [
    "csv_kwargs = dict(\n",
    "    sep=';',\n",
    "    encoding='latin1',\n",
    "    skiprows=[0], # skip header row\n",
    "    names=field_names,\n",
    "    dtype=initial_dtypes,\n",
    "    converters={\n",
    "        'saiso': lambda x: True if x == 'YES' else False, \n",
    "        'ecom': lambda x: True if x == 'X' else False,\n",
    "        'mandant_deletion_indicator': lambda x: True if x == 'X' else False,\n",
    "        'sales_org_deletion_indicator': lambda x: True if x == 'X' else False,\n",
    "    },\n",
    ")"
   ]
  },
  {
   "cell_type": "markdown",
   "metadata": {},
   "source": [
    "5. Lecture, concaténation des dataframes, et définition des catégories"
   ]
  },
  {
   "cell_type": "code",
   "execution_count": null,
   "metadata": {},
   "outputs": [],
   "source": [
    "filenames = [\n",
    "    'ref_clt_1PPF.csv',\n",
    "    'ref_clt_2PES.csv',\n",
    "]\n",
    "df_list = [\n",
    "    pd.read_csv(\n",
    "        data_path / 'clt' / filename,\n",
    "        **csv_kwargs,\n",
    "    ) for filename in filenames\n",
    "]\n",
    "df_clt = pd.concat(df_list, axis=0)\n",
    "df_clt = df_clt.astype(target_dtypes)"
   ]
  },
  {
   "cell_type": "markdown",
   "metadata": {},
   "source": [
    "6. Nettoyages divers"
   ]
  },
  {
   "cell_type": "code",
   "execution_count": null,
   "metadata": {},
   "outputs": [],
   "source": [
    "# remove emppty client codes\n",
    "df_clt = df_clt.loc[~df_clt.client.isna()]\n",
    "\n",
    "# zero pad numeric clients codes\n",
    "num_clt_mask = df_clt['client'].str.isnumeric()\n",
    "df_clt.loc[num_clt_mask, 'client'] = df_clt.loc[num_clt_mask, 'client'].str.zfill(10)\n",
    "\n",
    "#remove duplicated clients\n",
    "print(f'Clients count before cleansing : {df_clt.client.count()}')\n",
    "print(f\"Duplicated clients before cleansing: {sum(df_clt.loc[:, ['client', 'orgacom']].duplicated(keep=False))}\")\n",
    "df_clt = df_clt.loc[~(df_clt.loc[:, ['client', 'orgacom']].duplicated(keep=False) & df_clt.sectact.isna())]\n",
    "print(f\"Clients count after cleansing : {df_clt.client.count()}\")\n",
    "print(f\"Duplicated clients after cleansing: {sum(df_clt.loc[:, ['client', 'orgacom']].duplicated(keep=False))}\")\n",
    "\n",
    "# set the index\n",
    "df_clt.set_index(['orgacom', 'client'], inplace=True, drop=True)"
   ]
  },
  {
   "cell_type": "code",
   "execution_count": null,
   "metadata": {},
   "outputs": [],
   "source": [
    "if sum(df_clt.index.duplicated()):\n",
    "    raise RuntimeError('Something went wrong on the client dataframe! Some indices are duplicated!')"
   ]
  },
  {
   "cell_type": "markdown",
   "metadata": {},
   "source": [
    "7. Persistage sur le disque"
   ]
  },
  {
   "cell_type": "code",
   "execution_count": null,
   "metadata": {},
   "outputs": [],
   "source": [
    "df_clt.to_pickle(persist_path / 'clt.pkl')"
   ]
  }
 ],
 "metadata": {
  "kernelspec": {
   "display_name": "Python 3",
   "language": "python",
   "name": "python3"
  },
  "language_info": {
   "codemirror_mode": {
    "name": "ipython",
    "version": 3
   },
   "file_extension": ".py",
   "mimetype": "text/x-python",
   "name": "python",
   "nbconvert_exporter": "python",
   "pygments_lexer": "ipython3",
   "version": "3.8.5"
  }
 },
 "nbformat": 4,
 "nbformat_minor": 4
}
